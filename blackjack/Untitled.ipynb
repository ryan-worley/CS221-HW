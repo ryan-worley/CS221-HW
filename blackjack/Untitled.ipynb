{
 "cells": [
  {
   "cell_type": "code",
   "execution_count": null,
   "metadata": {},
   "outputs": [],
   "source": [
    "class SOME_MDP(object):\n",
    "    moveCost = -5\n",
    "    win = 20\n",
    "    superWin = 100\n",
    "\n",
    "    def __init__(self, max_State, min_State):\n",
    "        self.max_State = max_State\n",
    "        self.min_State = min_State\n",
    "        \n",
    "    def startState(self):\n",
    "        return 0\n",
    "\n",
    "    def isEnd(self, state):\n",
    "        if self.max_State == state:\n",
    "            return True\n",
    "        if self.min_State == state:\n",
    "            return True\n",
    "        else:\n",
    "            return False\n",
    "\n",
    "    def actions(self, state):\n",
    "        results = ['add','subtract']\n",
    "        return results\n",
    "\n",
    "    def succProbReward(self, state, action):\n",
    "        # Return a list of (newState, prob, reward) triples, where:\n",
    "        # - newState: s' (where I might end up)\n",
    "        # - prob: T(s, a, s')\n",
    "        # - reward: Reward(s, a, s')\n",
    "        results = []\n",
    "        if action == 'add':\n",
    "            if state == 1:\n",
    "                results.append((state + 1, .7, self.moveCost+self.superWin))\n",
    "            else:\n",
    "                results.append((state - 1, .3, self.moveCost))\n",
    "                results.append((state + 1, .7, self.moveCost))\n",
    "        \n",
    "        elif action == 'subtract':\n",
    "            if state == -1:\n",
    "                results.append((state - 1, .8, self.moveCost))\n",
    "            else:    \n",
    "                results.append((2 * state, .2, self.moveCost))\n",
    "                results.append((state - 1, .8, self.moveCost+self.win))\n",
    "        \n",
    "        return results\n",
    "\n",
    "    def discount(self):\n",
    "        return 1.0\n",
    "\n",
    "    def states(self):\n",
    "        return [.1, 0, 1]"
   ]
  }
 ],
 "metadata": {
  "kernelspec": {
   "display_name": "Python 3",
   "language": "python",
   "name": "python3"
  },
  "language_info": {
   "codemirror_mode": {
    "name": "ipython",
    "version": 3
   },
   "file_extension": ".py",
   "mimetype": "text/x-python",
   "name": "python",
   "nbconvert_exporter": "python",
   "pygments_lexer": "ipython3",
   "version": "3.6.6rc1"
  }
 },
 "nbformat": 4,
 "nbformat_minor": 2
}
